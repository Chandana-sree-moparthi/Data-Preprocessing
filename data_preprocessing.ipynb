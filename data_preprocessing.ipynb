{
 "cells": [
  {
   "cell_type": "markdown",
   "metadata": {},
   "source": [
    "### **Data Loading and Inspecting**"
   ]
  },
  {
   "cell_type": "code",
   "execution_count": 1,
   "metadata": {},
   "outputs": [],
   "source": [
    "# Importing of necessary libraries\n",
    "import pandas as pd\n",
    "import numpy as np"
   ]
  },
  {
   "cell_type": "code",
   "execution_count": 2,
   "metadata": {},
   "outputs": [],
   "source": [
    "# Loading of datasets\n",
    "customer_demographics = pd.read_csv(r\"C:\\Users\\ADMIN\\Desktop\\Data Science Task\\data\\CustomerDemographics.csv\")\n",
    "product_info = pd.read_csv(r\"C:\\Users\\ADMIN\\Desktop\\Data Science Task\\data\\ProductInfo.csv\")\n",
    "trans_1 = pd.read_csv(r\"C:\\Users\\ADMIN\\Desktop\\Data Science Task\\data\\Transactional_data_retail_01.csv\")\n",
    "trans_2 = pd.read_csv(r\"C:\\Users\\ADMIN\\Desktop\\Data Science Task\\data\\Transactional_data_retail_02.csv\")"
   ]
  },
  {
   "cell_type": "code",
   "execution_count": 3,
   "metadata": {},
   "outputs": [
    {
     "name": "stdout",
     "output_type": "stream",
     "text": [
      "   Customer ID         Country\n",
      "0        13085  United Kingdom\n",
      "1        13078  United Kingdom\n",
      "2        15362  United Kingdom\n",
      "3        18102  United Kingdom\n",
      "4        12682          France\n",
      "(49, 2)\n",
      "  StockCode                          Description\n",
      "0    85123A   WHITE HANGING HEART T-LIGHT HOLDER\n",
      "1     71053                  WHITE METAL LANTERN\n",
      "2    84406B       CREAM CUPID HEARTS COAT HANGER\n",
      "3    84029G  KNITTED UNION FLAG HOT WATER BOTTLE\n",
      "4    84029E       RED WOOLLY HOTTIE WHITE HEART.\n",
      "(8818, 2)\n",
      "  Invoice StockCode  Quantity  Price  Customer ID       InvoiceDate\n",
      "0  489434     85048        12   6.95      13085.0  01 December 2021\n",
      "1  489434    79323P        12   6.75      13085.0  01 December 2021\n",
      "2  489434    79323W        12   6.75      13085.0  01 December 2021\n",
      "3  489434     22041        48   2.10      13085.0  01 December 2021\n",
      "4  489434     21232        24   1.25      13085.0  01 December 2021\n",
      "(525461, 6)\n",
      "  Invoice StockCode  Quantity  Price  Customer ID InvoiceDate\n",
      "0  536365    85123A         6   2.55      17850.0  01-12-2022\n",
      "1  536365     71053         6   3.39      17850.0  01-12-2022\n",
      "2  536365    84406B         8   2.75      17850.0  01-12-2022\n",
      "3  536365    84029G         6   3.39      17850.0  01-12-2022\n",
      "4  536365    84029E         6   3.39      17850.0  01-12-2022\n",
      "(541910, 6)\n"
     ]
    }
   ],
   "source": [
    "# Inspecting of each dataset\n",
    "print(customer_demographics.head())\n",
    "print(customer_demographics.shape)\n",
    "\n",
    "print(product_info.head())\n",
    "print(product_info.shape)\n",
    "\n",
    "print(trans_1.head())\n",
    "print(trans_1.shape)\n",
    "\n",
    "print(trans_2.head())\n",
    "print(trans_2.shape)\n"
   ]
  },
  {
   "cell_type": "code",
   "execution_count": 4,
   "metadata": {},
   "outputs": [
    {
     "name": "stdout",
     "output_type": "stream",
     "text": [
      "<class 'pandas.core.frame.DataFrame'>\n",
      "RangeIndex: 49 entries, 0 to 48\n",
      "Data columns (total 2 columns):\n",
      " #   Column       Non-Null Count  Dtype \n",
      "---  ------       --------------  ----- \n",
      " 0   Customer ID  49 non-null     int64 \n",
      " 1   Country      49 non-null     object\n",
      "dtypes: int64(1), object(1)\n",
      "memory usage: 916.0+ bytes\n",
      "None\n",
      "--------------------------------------------------\n",
      "<class 'pandas.core.frame.DataFrame'>\n",
      "RangeIndex: 8818 entries, 0 to 8817\n",
      "Data columns (total 2 columns):\n",
      " #   Column       Non-Null Count  Dtype \n",
      "---  ------       --------------  ----- \n",
      " 0   StockCode    8818 non-null   object\n",
      " 1   Description  6367 non-null   object\n",
      "dtypes: object(2)\n",
      "memory usage: 137.9+ KB\n",
      "None\n",
      "--------------------------------------------------\n",
      "<class 'pandas.core.frame.DataFrame'>\n",
      "RangeIndex: 525461 entries, 0 to 525460\n",
      "Data columns (total 6 columns):\n",
      " #   Column       Non-Null Count   Dtype  \n",
      "---  ------       --------------   -----  \n",
      " 0   Invoice      525461 non-null  object \n",
      " 1   StockCode    525461 non-null  object \n",
      " 2   Quantity     525461 non-null  int64  \n",
      " 3   Price        525461 non-null  float64\n",
      " 4   Customer ID  417534 non-null  float64\n",
      " 5   InvoiceDate  525461 non-null  object \n",
      "dtypes: float64(2), int64(1), object(3)\n",
      "memory usage: 24.1+ MB\n",
      "None\n",
      "--------------------------------------------------\n",
      "<class 'pandas.core.frame.DataFrame'>\n",
      "RangeIndex: 541910 entries, 0 to 541909\n",
      "Data columns (total 6 columns):\n",
      " #   Column       Non-Null Count   Dtype  \n",
      "---  ------       --------------   -----  \n",
      " 0   Invoice      541910 non-null  object \n",
      " 1   StockCode    541910 non-null  object \n",
      " 2   Quantity     541910 non-null  int64  \n",
      " 3   Price        541910 non-null  float64\n",
      " 4   Customer ID  406830 non-null  float64\n",
      " 5   InvoiceDate  541910 non-null  object \n",
      "dtypes: float64(2), int64(1), object(3)\n",
      "memory usage: 24.8+ MB\n",
      "None\n",
      "--------------------------------------------------\n"
     ]
    }
   ],
   "source": [
    "print(customer_demographics.info())\n",
    "print(\"-\" * 50) \n",
    "print(product_info.info())\n",
    "print(\"-\" * 50) \n",
    "print(trans_1.info())\n",
    "print(\"-\" * 50) \n",
    "print(trans_2.info())\n",
    "print(\"-\" * 50) "
   ]
  },
  {
   "cell_type": "markdown",
   "metadata": {},
   "source": [
    "### **Data Cleaning**"
   ]
  },
  {
   "cell_type": "code",
   "execution_count": 5,
   "metadata": {},
   "outputs": [
    {
     "name": "stdout",
     "output_type": "stream",
     "text": [
      "Customer ID    0\n",
      "Country        0\n",
      "dtype: int64\n",
      "StockCode         0\n",
      "Description    2451\n",
      "dtype: int64\n",
      "Invoice             0\n",
      "StockCode           0\n",
      "Quantity            0\n",
      "Price               0\n",
      "Customer ID    107927\n",
      "InvoiceDate         0\n",
      "dtype: int64\n",
      "Invoice             0\n",
      "StockCode           0\n",
      "Quantity            0\n",
      "Price               0\n",
      "Customer ID    135080\n",
      "InvoiceDate         0\n",
      "dtype: int64\n"
     ]
    },
    {
     "data": {
      "text/plain": [
       "((8818, 2), (525461, 6), (541910, 6))"
      ]
     },
     "execution_count": 5,
     "metadata": {},
     "output_type": "execute_result"
    }
   ],
   "source": [
    "# Check for Missing Values\n",
    "print(customer_demographics.isnull().sum())\n",
    "print(product_info.isnull().sum())\n",
    "print(trans_1.isnull().sum())\n",
    "print(trans_2.isnull().sum())\n",
    "\n",
    "product_info.shape,trans_1.shape,trans_2.shape"
   ]
  },
  {
   "cell_type": "code",
   "execution_count": 6,
   "metadata": {},
   "outputs": [
    {
     "name": "stdout",
     "output_type": "stream",
     "text": [
      "Customer ID    0\n",
      "Country        0\n",
      "dtype: int64\n",
      "StockCode      0\n",
      "Description    0\n",
      "dtype: int64\n",
      "Invoice        0\n",
      "StockCode      0\n",
      "Quantity       0\n",
      "Price          0\n",
      "Customer ID    0\n",
      "InvoiceDate    0\n",
      "dtype: int64\n",
      "Invoice        0\n",
      "StockCode      0\n",
      "Quantity       0\n",
      "Price          0\n",
      "Customer ID    0\n",
      "InvoiceDate    0\n",
      "dtype: int64\n"
     ]
    },
    {
     "data": {
      "text/plain": [
       "((6367, 2), (417534, 6), (406830, 6))"
      ]
     },
     "execution_count": 6,
     "metadata": {},
     "output_type": "execute_result"
    }
   ],
   "source": [
    "# Drop rows with missing values\n",
    "product_info.dropna(subset=['Description'],inplace=True)\n",
    "trans_1.dropna(subset=['Customer ID'], inplace=True)\n",
    "trans_2.dropna(subset=['Customer ID'], inplace=True)\n",
    "\n",
    "# Check again after removal of missing values\n",
    "print(customer_demographics.isnull().sum())\n",
    "print(product_info.isnull().sum())\n",
    "print(trans_1.isnull().sum())\n",
    "print(trans_2.isnull().sum())\n",
    "\n",
    "product_info.shape,trans_1.shape,trans_2.shape"
   ]
  },
  {
   "cell_type": "code",
   "execution_count": 7,
   "metadata": {},
   "outputs": [
    {
     "name": "stdout",
     "output_type": "stream",
     "text": [
      "0\n",
      "0\n",
      "6772\n",
      "5228\n"
     ]
    },
    {
     "data": {
      "text/plain": [
       "((6367, 2), (417534, 6), (406830, 6))"
      ]
     },
     "execution_count": 7,
     "metadata": {},
     "output_type": "execute_result"
    }
   ],
   "source": [
    "# Check for Duplicates\n",
    "print(customer_demographics.duplicated().sum())\n",
    "print(product_info.duplicated().sum())\n",
    "print(trans_1.duplicated().sum())\n",
    "print(trans_2.duplicated().sum())\n",
    "\n",
    "product_info.shape,trans_1.shape,trans_2.shape"
   ]
  },
  {
   "cell_type": "code",
   "execution_count": 8,
   "metadata": {},
   "outputs": [
    {
     "name": "stdout",
     "output_type": "stream",
     "text": [
      "0\n",
      "0\n"
     ]
    },
    {
     "data": {
      "text/plain": [
       "((6367, 2), (410762, 6), (401602, 6))"
      ]
     },
     "execution_count": 8,
     "metadata": {},
     "output_type": "execute_result"
    }
   ],
   "source": [
    "# Remove Dulicates\n",
    "trans_1.drop_duplicates(inplace=True)\n",
    "trans_2.drop_duplicates(inplace=True)\n",
    "\n",
    "product_info.shape,trans_1.shape,trans_2.shape\n",
    "\n",
    "# Check again after removal of duplicate values\n",
    "print(trans_1.duplicated().sum())\n",
    "print(trans_2.duplicated().sum())\n",
    "\n",
    "product_info.shape,trans_1.shape,trans_2.shape"
   ]
  },
  {
   "cell_type": "code",
   "execution_count": 9,
   "metadata": {},
   "outputs": [
    {
     "name": "stdout",
     "output_type": "stream",
     "text": [
      "0\n",
      "0\n"
     ]
    }
   ],
   "source": [
    "# Correcting Data Types\n",
    "\n",
    "# Convert InvoiceDate to datetime\n",
    "trans_1['InvoiceDate'] = pd.to_datetime(trans_1['InvoiceDate'],errors='coerce',dayfirst=True)\n",
    "trans_2['InvoiceDate'] = pd.to_datetime(trans_2['InvoiceDate'],errors='coerce',dayfirst=True)\n",
    "\n",
    "# Check for any errors\n",
    "print(trans_1['InvoiceDate'].isnull().sum())\n",
    "print(trans_2['InvoiceDate'].isnull().sum())"
   ]
  },
  {
   "cell_type": "code",
   "execution_count": 10,
   "metadata": {},
   "outputs": [
    {
     "data": {
      "image/png": "[encoded data removed]",
      "text/plain": [
       "<Figure size 1000x500 with 1 Axes>"
      ]
     },
     "metadata": {},
     "output_type": "display_data"
    },
    {
     "data": {
      "image/png": "[encoded data removed]",
      "text/plain": [
       "<Figure size 1000x500 with 1 Axes>"
      ]
     },
     "metadata": {},
     "output_type": "display_data"
    },
    {
     "data": {
      "text/plain": [
       "((410762, 6), (401602, 6))"
      ]
     },
     "execution_count": 10,
     "metadata": {},
     "output_type": "execute_result"
    }
   ],
   "source": [
    "# Handling of Outliers\n",
    "import matplotlib.pyplot as plt\n",
    "import seaborn as sns\n",
    "\n",
    "# Before removing he outliers let's visualize\n",
    "# Visualize Quantity\n",
    "plt.figure(figsize=(10, 5))\n",
    "sns.boxplot(x=trans_1['Quantity'])\n",
    "plt.title('Box Plot of Quantity')\n",
    "plt.show()\n",
    "\n",
    "# Visualize Price\n",
    "plt.figure(figsize=(10, 5))\n",
    "sns.boxplot(x=trans_1['Price'])\n",
    "plt.title('Box Plot of Price')\n",
    "plt.show()\n",
    "\n",
    "\n",
    "trans_1.shape,trans_2.shape"
   ]
  },
  {
   "cell_type": "code",
   "execution_count": 11,
   "metadata": {},
   "outputs": [
    {
     "name": "stdout",
     "output_type": "stream",
     "text": [
      "Quantity: Lower Bound: -13.0, Upper Bound: 27.0, Number of Outliers: 27342\n",
      "Price: Lower Bound: -2.5, Upper Bound: 7.5, Number of Outliers: 34703\n",
      "Customer ID: Lower Bound: 9752.0, Upper Bound: 21024.0, Number of Outliers: 0\n",
      "Quantity: Lower Bound: -13.0, Upper Bound: 27.0, Number of Outliers for trans_2:  26645\n",
      "Price: Lower Bound: -2.5, Upper Bound: 7.5, Number of Outliers for trans_2:  35803\n",
      "Customer ID: Lower Bound: 9671.5, Upper Bound: 21051.5, Number of Outliers for trans_2:  0\n"
     ]
    },
    {
     "data": {
      "text/plain": [
       "((410762, 6), (401602, 6))"
      ]
     },
     "execution_count": 11,
     "metadata": {},
     "output_type": "execute_result"
    }
   ],
   "source": [
    "# Loop through numerical columns to detect outliers in trans_1\n",
    "for column in trans_1.select_dtypes(include=[np.number]).columns:\n",
    "    Q1 = trans_1[column].quantile(0.25)\n",
    "    Q3 = trans_1[column].quantile(0.75)\n",
    "    IQR = Q3 - Q1\n",
    "    lower_bound = Q1 - 1.5 * IQR\n",
    "    upper_bound = Q3 + 1.5 * IQR\n",
    "    # Count and display outliers\n",
    "    outliers_count = trans_1[(trans_1[column] < lower_bound) | (trans_1[column] > upper_bound)].shape[0]\n",
    "    print(f\"{column}: Lower Bound: {lower_bound}, Upper Bound: {upper_bound}, Number of Outliers: {outliers_count}\")\n",
    "\n",
    "for column_2 in trans_2.select_dtypes(include=[np.number]).columns:\n",
    "    Q1_2 = trans_2[column_2].quantile(0.25)\n",
    "    Q3_2 = trans_2[column_2].quantile(0.75)\n",
    "    IQR_2 = Q3_2 - Q1_2\n",
    "    lower_bound_2 = Q1_2 - 1.5 * IQR_2\n",
    "    upper_bound_2 = Q3_2 + 1.5 * IQR_2\n",
    "    outliers_count_2 = trans_2[(trans_2[column_2] < lower_bound_2) | (trans_2[column_2] > upper_bound_2)].shape[0]\n",
    "    print(f\"{column_2}: Lower Bound: {lower_bound_2}, Upper Bound: {upper_bound_2}, Number of Outliers for trans_2:  {outliers_count_2}\")\n",
    "    \n",
    "trans_1.shape,trans_2.shape"
   ]
  },
  {
   "cell_type": "code",
   "execution_count": 12,
   "metadata": {},
   "outputs": [
    {
     "data": {
      "text/plain": [
       "((349024, 6), (339451, 6))"
      ]
     },
     "execution_count": 12,
     "metadata": {},
     "output_type": "execute_result"
    }
   ],
   "source": [
    "# Remove outliers\n",
    "trans_1 = trans_1[(trans_1['Quantity']>=-13.0) & (trans_1['Quantity'] <= 27.0)]\n",
    "trans_1 = trans_1[(trans_1['Price']>=-2.5) & (trans_1['Price']<=7.5)]\n",
    "\n",
    "trans_2 = trans_2[(trans_2['Quantity']>=-13.0) & (trans_2['Quantity'] <= 27.0)]\n",
    "trans_2 = trans_2[(trans_2['Price']>=-2.5) & (trans_2['Price']<=7.5)]\n",
    "\n",
    "trans_1.shape,trans_2.shape"
   ]
  },
  {
   "cell_type": "code",
   "execution_count": 13,
   "metadata": {},
   "outputs": [
    {
     "data": {
      "image/png": "[encoded data removed]",
      "text/plain": [
       "<Figure size 1000x500 with 1 Axes>"
      ]
     },
     "metadata": {},
     "output_type": "display_data"
    }
   ],
   "source": [
    "plt.figure(figsize=(10, 5))\n",
    "sns.boxplot(x=trans_1['Quantity'])\n",
    "plt.title('Box Plot of Quantity')\n",
    "plt.show()"
   ]
  },
  {
   "cell_type": "code",
   "execution_count": 14,
   "metadata": {},
   "outputs": [],
   "source": [
    "# Data Integration\n",
    "\n",
    "# Combine transactional data\n",
    "transactional_data = pd.concat([trans_1, trans_2], ignore_index=True)\n",
    "# Merge with CustomerDemographics\n",
    "transactional_data = pd.merge(transactional_data, customer_demographics, on=\"Customer ID\", how=\"left\")\n",
    "\n",
    "# Merge with ProductInfo\n",
    "transactional_data = pd.merge(transactional_data, product_info, on=\"StockCode\", how=\"left\")"
   ]
  },
  {
   "cell_type": "code",
   "execution_count": 15,
   "metadata": {},
   "outputs": [
    {
     "name": "stdout",
     "output_type": "stream",
     "text": [
      "<class 'pandas.core.frame.DataFrame'>\n",
      "RangeIndex: 1103043 entries, 0 to 1103042\n",
      "Data columns (total 8 columns):\n",
      " #   Column       Non-Null Count    Dtype         \n",
      "---  ------       --------------    -----         \n",
      " 0   Invoice      1103043 non-null  object        \n",
      " 1   StockCode    1103043 non-null  object        \n",
      " 2   Quantity     1103043 non-null  int64         \n",
      " 3   Price        1103043 non-null  float64       \n",
      " 4   Customer ID  1103043 non-null  float64       \n",
      " 5   InvoiceDate  1103043 non-null  datetime64[ns]\n",
      " 6   Country      34325 non-null    object        \n",
      " 7   Description  1102466 non-null  object        \n",
      "dtypes: datetime64[ns](1), float64(2), int64(1), object(4)\n",
      "memory usage: 67.3+ MB\n",
      "None\n",
      "  Invoice StockCode  Quantity  Price  Customer ID InvoiceDate         Country  \\\n",
      "0  489434     85048        12   6.95      13085.0  2021-12-01  United Kingdom   \n",
      "1  489434    79323P        12   6.75      13085.0  2021-12-01  United Kingdom   \n",
      "2  489434    79323P        12   6.75      13085.0  2021-12-01  United Kingdom   \n",
      "3  489434    79323W        12   6.75      13085.0  2021-12-01  United Kingdom   \n",
      "4  489434    79323W        12   6.75      13085.0  2021-12-01  United Kingdom   \n",
      "\n",
      "                           Description  \n",
      "0  15CM CHRISTMAS GLASS BALL 20 LIGHTS  \n",
      "1                   PINK CHERRY LIGHTS  \n",
      "2               Unsaleable, destroyed.  \n",
      "3                  WHITE CHERRY LIGHTS  \n",
      "4               Unsaleable, destroyed.  \n"
     ]
    }
   ],
   "source": [
    "print(transactional_data.info())\n",
    "print(transactional_data.head())"
   ]
  },
  {
   "cell_type": "code",
   "execution_count": 16,
   "metadata": {},
   "outputs": [
    {
     "data": {
      "text/plain": [
       "(1103043, 8)"
      ]
     },
     "execution_count": 16,
     "metadata": {},
     "output_type": "execute_result"
    }
   ],
   "source": [
    "# Total Records\n",
    "transactional_data.shape"
   ]
  },
  {
   "cell_type": "code",
   "execution_count": 17,
   "metadata": {},
   "outputs": [
    {
     "data": {
      "text/plain": [
       "(1103043, 13)"
      ]
     },
     "execution_count": 17,
     "metadata": {},
     "output_type": "execute_result"
    }
   ],
   "source": [
    "# Feature Engineering\n",
    "\n",
    "# Calculating the revenue for each transaction\n",
    "transactional_data['Revenue'] = transactional_data['Quantity'] * transactional_data['Price']\n",
    "\n",
    "# Deriving additional features from InvoiceDate to capture the seasonality and trends\n",
    "transactional_data['Year'] = transactional_data['InvoiceDate'].dt.year\n",
    "transactional_data['Month'] = transactional_data['InvoiceDate'].dt.month\n",
    "transactional_data['Week'] = transactional_data['InvoiceDate'].dt.isocalendar().week\n",
    "transactional_data['DayOfWeek'] = transactional_data['InvoiceDate'].dt.dayofweek\n",
    "\n",
    "# Preparing data for time series analysis\n",
    "# Aggregate weekly sales for each product\n",
    "weekly_sales = transactional_data.groupby(['StockCode', 'Year', 'Week']).agg({\n",
    "    'Quantity': 'sum',\n",
    "    'Revenue': 'sum'\n",
    "}).reset_index()\n",
    "\n",
    "# Create a datetime column representing the week\n",
    "weekly_sales['WeekStart'] = transactional_data.groupby(['StockCode', 'Year', 'Week'])['InvoiceDate'].min().reset_index()['InvoiceDate']\n",
    "\n",
    "transactional_data.shape\n"
   ]
  },
  {
   "cell_type": "code",
   "execution_count": 18,
   "metadata": {},
   "outputs": [
    {
     "name": "stdout",
     "output_type": "stream",
     "text": [
      "<class 'pandas.core.frame.DataFrame'>\n",
      "RangeIndex: 1103043 entries, 0 to 1103042\n",
      "Data columns (total 13 columns):\n",
      " #   Column       Non-Null Count    Dtype         \n",
      "---  ------       --------------    -----         \n",
      " 0   Invoice      1103043 non-null  object        \n",
      " 1   StockCode    1103043 non-null  object        \n",
      " 2   Quantity     1103043 non-null  int64         \n",
      " 3   Price        1103043 non-null  float64       \n",
      " 4   Customer ID  1103043 non-null  float64       \n",
      " 5   InvoiceDate  1103043 non-null  datetime64[ns]\n",
      " 6   Country      34325 non-null    object        \n",
      " 7   Description  1102466 non-null  object        \n",
      " 8   Revenue      1103043 non-null  float64       \n",
      " 9   Year         1103043 non-null  int32         \n",
      " 10  Month        1103043 non-null  int32         \n",
      " 11  Week         1103043 non-null  UInt32        \n",
      " 12  DayOfWeek    1103043 non-null  int32         \n",
      "dtypes: UInt32(1), datetime64[ns](1), float64(3), int32(3), int64(1), object(4)\n",
      "memory usage: 93.6+ MB\n"
     ]
    }
   ],
   "source": [
    "transactional_data.info()"
   ]
  },
  {
   "cell_type": "code",
   "execution_count": 19,
   "metadata": {},
   "outputs": [
    {
     "data": {
      "text/html": [
       "<div>\n",
       "<style scoped>\n",
       "    .dataframe tbody tr th:only-of-type {\n",
       "        vertical-align: middle;\n",
       "    }\n",
       "\n",
       "    .dataframe tbody tr th {\n",
       "        vertical-align: top;\n",
       "    }\n",
       "\n",
       "    .dataframe thead th {\n",
       "        text-align: right;\n",
       "    }\n",
       "</style>\n",
       "<table border=\"1\" class=\"dataframe\">\n",
       "  <thead>\n",
       "    <tr style=\"text-align: right;\">\n",
       "      <th></th>\n",
       "      <th>Invoice</th>\n",
       "      <th>StockCode</th>\n",
       "      <th>Quantity</th>\n",
       "      <th>Price</th>\n",
       "      <th>Customer ID</th>\n",
       "      <th>InvoiceDate</th>\n",
       "      <th>Country</th>\n",
       "      <th>Description</th>\n",
       "      <th>Revenue</th>\n",
       "      <th>Year</th>\n",
       "      <th>Month</th>\n",
       "      <th>Week</th>\n",
       "      <th>DayOfWeek</th>\n",
       "    </tr>\n",
       "  </thead>\n",
       "  <tbody>\n",
       "    <tr>\n",
       "      <th>0</th>\n",
       "      <td>489434</td>\n",
       "      <td>85048</td>\n",
       "      <td>12</td>\n",
       "      <td>6.95</td>\n",
       "      <td>13085.0</td>\n",
       "      <td>2021-12-01</td>\n",
       "      <td>United Kingdom</td>\n",
       "      <td>15CM CHRISTMAS GLASS BALL 20 LIGHTS</td>\n",
       "      <td>83.4</td>\n",
       "      <td>2021</td>\n",
       "      <td>12</td>\n",
       "      <td>48</td>\n",
       "      <td>2</td>\n",
       "    </tr>\n",
       "    <tr>\n",
       "      <th>1</th>\n",
       "      <td>489434</td>\n",
       "      <td>79323P</td>\n",
       "      <td>12</td>\n",
       "      <td>6.75</td>\n",
       "      <td>13085.0</td>\n",
       "      <td>2021-12-01</td>\n",
       "      <td>United Kingdom</td>\n",
       "      <td>PINK CHERRY LIGHTS</td>\n",
       "      <td>81.0</td>\n",
       "      <td>2021</td>\n",
       "      <td>12</td>\n",
       "      <td>48</td>\n",
       "      <td>2</td>\n",
       "    </tr>\n",
       "    <tr>\n",
       "      <th>2</th>\n",
       "      <td>489434</td>\n",
       "      <td>79323P</td>\n",
       "      <td>12</td>\n",
       "      <td>6.75</td>\n",
       "      <td>13085.0</td>\n",
       "      <td>2021-12-01</td>\n",
       "      <td>United Kingdom</td>\n",
       "      <td>Unsaleable, destroyed.</td>\n",
       "      <td>81.0</td>\n",
       "      <td>2021</td>\n",
       "      <td>12</td>\n",
       "      <td>48</td>\n",
       "      <td>2</td>\n",
       "    </tr>\n",
       "    <tr>\n",
       "      <th>3</th>\n",
       "      <td>489434</td>\n",
       "      <td>79323W</td>\n",
       "      <td>12</td>\n",
       "      <td>6.75</td>\n",
       "      <td>13085.0</td>\n",
       "      <td>2021-12-01</td>\n",
       "      <td>United Kingdom</td>\n",
       "      <td>WHITE CHERRY LIGHTS</td>\n",
       "      <td>81.0</td>\n",
       "      <td>2021</td>\n",
       "      <td>12</td>\n",
       "      <td>48</td>\n",
       "      <td>2</td>\n",
       "    </tr>\n",
       "    <tr>\n",
       "      <th>4</th>\n",
       "      <td>489434</td>\n",
       "      <td>79323W</td>\n",
       "      <td>12</td>\n",
       "      <td>6.75</td>\n",
       "      <td>13085.0</td>\n",
       "      <td>2021-12-01</td>\n",
       "      <td>United Kingdom</td>\n",
       "      <td>Unsaleable, destroyed.</td>\n",
       "      <td>81.0</td>\n",
       "      <td>2021</td>\n",
       "      <td>12</td>\n",
       "      <td>48</td>\n",
       "      <td>2</td>\n",
       "    </tr>\n",
       "  </tbody>\n",
       "</table>\n",
       "</div>"
      ],
      "text/plain": [
       "  Invoice StockCode  Quantity  Price  Customer ID InvoiceDate         Country  \\\n",
       "0  489434     85048        12   6.95      13085.0  2021-12-01  United Kingdom   \n",
       "1  489434    79323P        12   6.75      13085.0  2021-12-01  United Kingdom   \n",
       "2  489434    79323P        12   6.75      13085.0  2021-12-01  United Kingdom   \n",
       "3  489434    79323W        12   6.75      13085.0  2021-12-01  United Kingdom   \n",
       "4  489434    79323W        12   6.75      13085.0  2021-12-01  United Kingdom   \n",
       "\n",
       "                           Description  Revenue  Year  Month  Week  DayOfWeek  \n",
       "0  15CM CHRISTMAS GLASS BALL 20 LIGHTS     83.4  2021     12    48          2  \n",
       "1                   PINK CHERRY LIGHTS     81.0  2021     12    48          2  \n",
       "2               Unsaleable, destroyed.     81.0  2021     12    48          2  \n",
       "3                  WHITE CHERRY LIGHTS     81.0  2021     12    48          2  \n",
       "4               Unsaleable, destroyed.     81.0  2021     12    48          2  "
      ]
     },
     "execution_count": 19,
     "metadata": {},
     "output_type": "execute_result"
    }
   ],
   "source": [
    "transactional_data.head()"
   ]
  },
  {
   "cell_type": "code",
   "execution_count": 20,
   "metadata": {},
   "outputs": [
    {
     "name": "stdout",
     "output_type": "stream",
     "text": [
      "['United Kingdom' 'France' 'Australia' nan 'Netherlands' 'Belgium']\n"
     ]
    }
   ],
   "source": [
    "# Handling Inconsistent Data\n",
    "\n",
    "# Standardize Text Data\n",
    "# like triming whitespace and converting it to consistent case\n",
    "transactional_data['Country'] = transactional_data['Country'].str.strip().str.title()\n",
    "transactional_data['Description'] = transactional_data['Description'].str.strip().str.title()\n",
    "\n",
    "# Address Inconsistencies\n",
    "print(transactional_data['Country'].unique())\n",
    "\n",
    "# Correct any misspellings or inconsistencies manually or programmatically\n",
    "transactional_data['Country'] = transactional_data['Country'].replace({\n",
    "    'Uk': 'United Kingdom', 'Aus': 'Australia', 'France':'France','Nls': 'Netherlands','Blg':'Belgium',\n",
    "    'Usa': 'USA',\n",
    "    # Add other corrections as needed\n",
    "})"
   ]
  },
  {
   "cell_type": "code",
   "execution_count": 52,
   "metadata": {},
   "outputs": [],
   "source": [
    "# Impute missing countries with 'Unknown'\n",
    "transactional_data['Country'] = transactional_data['Country'].fillna('Unknown')\n",
    "\n",
    "# Impute missing descriptions with 'Unknown'\n",
    "transactional_data['Description'] = transactional_data['Description'].fillna('Unknown')"
   ]
  },
  {
   "cell_type": "code",
   "execution_count": 54,
   "metadata": {},
   "outputs": [
    {
     "name": "stdout",
     "output_type": "stream",
     "text": [
      "Invoice        0\n",
      "StockCode      0\n",
      "Quantity       0\n",
      "Price          0\n",
      "Customer ID    0\n",
      "InvoiceDate    0\n",
      "Country        0\n",
      "Description    0\n",
      "Revenue        0\n",
      "Year           0\n",
      "Month          0\n",
      "Week           0\n",
      "DayOfWeek      0\n",
      "dtype: int64\n",
      "           Quantity         Price   Customer ID  \\\n",
      "count  1.103043e+06  1.103043e+06  1.103043e+06   \n",
      "mean   7.181507e+00  2.396844e+00  1.534072e+04   \n",
      "min   -1.300000e+01  0.000000e+00  1.234600e+04   \n",
      "25%    2.000000e+00  1.250000e+00  1.398200e+04   \n",
      "50%    6.000000e+00  1.950000e+00  1.529800e+04   \n",
      "75%    1.200000e+01  2.950000e+00  1.680900e+04   \n",
      "max    2.700000e+01  7.500000e+00  1.828700e+04   \n",
      "std    6.749367e+00  1.647293e+00  1.695833e+03   \n",
      "\n",
      "                         InvoiceDate       Revenue          Year  \\\n",
      "count                        1103043  1.103043e+06  1.103043e+06   \n",
      "mean   2022-12-29 01:35:14.788635136  1.333682e+01  2.022415e+03   \n",
      "min              2021-12-01 00:00:00 -8.775000e+01  2.021000e+03   \n",
      "25%              2022-07-01 00:00:00  4.200000e+00  2.022000e+03   \n",
      "50%              2022-12-01 00:00:00  1.020000e+01  2.022000e+03   \n",
      "75%              2023-07-24 00:00:00  1.770000e+01  2.023000e+03   \n",
      "max              2023-12-09 00:00:00  1.822500e+02  2.023000e+03   \n",
      "std                              NaN  1.427915e+01  5.664908e-01   \n",
      "\n",
      "              Month       Week     DayOfWeek  \n",
      "count  1.103043e+06  1103043.0  1.103043e+06  \n",
      "mean   7.474680e+00  30.480435  2.464186e+00  \n",
      "min    1.000000e+00        1.0  0.000000e+00  \n",
      "25%    5.000000e+00       18.0  1.000000e+00  \n",
      "50%    8.000000e+00       33.0  3.000000e+00  \n",
      "75%    1.100000e+01       44.0  4.000000e+00  \n",
      "max    1.200000e+01       51.0  6.000000e+00  \n",
      "std    3.451474e+00  14.885487  1.667398e+00  \n"
     ]
    }
   ],
   "source": [
    "# Final Data Validation\n",
    "print(transactional_data.isnull().sum())\n",
    "print(transactional_data.describe())"
   ]
  },
  {
   "cell_type": "code",
   "execution_count": 55,
   "metadata": {},
   "outputs": [],
   "source": [
    "# Save the Preprocessed Data\n",
    "transactional_data.to_csv(\"Preprocessed_Transactional_Data.csv\", index=False)"
   ]
  }
 ],
 "metadata": {
  "kernelspec": {
   "display_name": "base",
   "language": "python",
   "name": "python3"
  },
  "language_info": {
   "codemirror_mode": {
    "name": "ipython",
    "version": 3
   },
   "file_extension": ".py",
   "mimetype": "text/x-python",
   "name": "python",
   "nbconvert_exporter": "python",
   "pygments_lexer": "ipython3",
   "version": "3.12.4"
  }
 },
 "nbformat": 4,
 "nbformat_minor": 2
}
